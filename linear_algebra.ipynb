{
 "cells": [
  {
   "cell_type": "code",
   "execution_count": 1,
   "id": "57d16c16-29d2-4380-a643-b2130a01194e",
   "metadata": {},
   "outputs": [],
   "source": [
    "import numpy as np"
   ]
  },
  {
   "cell_type": "markdown",
   "id": "6c4ea719-ce52-48be-8dea-aab10f43e827",
   "metadata": {},
   "source": [
    "## Scalars, Vectors, Matrices, and Tensors"
   ]
  },
  {
   "cell_type": "code",
   "execution_count": 138,
   "id": "08f281e7-a4eb-42fd-89b6-40c6cf543613",
   "metadata": {},
   "outputs": [],
   "source": [
    "np.random.seed(12)\n",
    "\n",
    "# A scalar\n",
    "s1 = np.random.randint(1,10,1)\n",
    "s2 = np.random.randint(1,10,1)\n",
    "\n",
    "# A vector\n",
    "v = np.random.randint(1,10,[5,1])\n",
    "\n",
    "# A transposed vector\n",
    "v_T = v.T\n",
    "\n",
    "# A set of S, an index of excluded items in v\n",
    "S = np.random.choice(np.arange(v.size), 3)\n",
    "\n",
    "# Exclude S from v\n",
    "v_wo_S = np.expand_dims(np.delete(np.squeeze(v.T), S),0).T\n",
    "\n",
    "# A matrix\n",
    "M = np.random.randint(1,10,[2,2])\n",
    "M2 = np.random.randint(1,11,[2,2])\n",
    "M3 = np.random.randint(1,12,[2,2])\n",
    "\n",
    "# A tensor (matrix with more than 2D)\n",
    "T3 = np.random.randint(1,10,[2,2,2])\n",
    "T4 = np.random.randint(1,10,[2,2,2,2])\n",
    "\n",
    "# A matrix's transpose, mirror across a diagonal line\n",
    "M_T = M.T\n",
    "\n",
    "# A vector notation in inline text\n",
    "v_i = v_T.T\n",
    "assert (v_i.shape == v.shape) and (v_i.all() == v.all())\n",
    "\n",
    "# Matrix addition\n",
    "Madd = M + M2\n",
    "\n",
    "# Matrix multiplication with scalar\n",
    "Ms = s1 * M + s2\n",
    "\n",
    "# Matrix Product Operations\n",
    "# Distributive\n",
    "Md_left = M @ (M2 + M3)\n",
    "Md_right = (M @ M2) + (M @ M3)\n",
    "assert Md_left.all() == Md_right.all()\n",
    "\n",
    "# Associative\n",
    "Ma_left = M @ (M2 @ M3)\n",
    "Ma_right = (M @ M2) @ M3\n",
    "assert Ma_left.all() == Ma_right.all()\n",
    "\n",
    "# Matrix inverse\n",
    "M_inv = np.linalg.inv(M)\n",
    "assert ((M_inv @ M).astype('int') == np.identity(M_inv.shape[0], dtype='int')).all()\n",
    "\n",
    "# Solve the linear equation problem\n",
    "# Ax = b\n",
    "# x = (A-1)b\n",
    "A = M.copy()\n",
    "A_inv = np.linalg.inv(A)\n",
    "b = np.random.randint(1,100,1) * M[1,:]\n",
    "x = A_inv @ b\n",
    "\n",
    "# Matrix Norm\n",
    "# rows: vertical direction\n",
    "# cols: horizontal direction\n",
    "M_norml1 = np.linalg.norm(M, 1) # sum over rows, get max value\n",
    "M_normmax = np.linalg.norm(M, np.inf) # sum over cols, get max value\n",
    "M_normfrob = np.linalg.norm(M, 'fro') # frobenius norm\n",
    "\n",
    "# Special kinds of Matrices\n",
    "# Diagonal Matrix\n",
    "B = np.arange(9).reshape((3,3))\n",
    "B_vdiag = np.diag(B) # diagonal value of above matrix\n",
    "B_Udiag = np.diag(B, k=1) # diagonal value, 1step above symmetrical diagonal\n",
    "B_Bdiag = np.diag(B, k=-1) # diagonal value, 1step below symmetrical diagonal\n",
    "B_diag = np.diag(B_vdiag) # diagonal matrix composed from extracted diagonal value\n",
    "\n",
    "# Determinant\n",
    "M_det = np.linalg.det(M)\n",
    "B_det = np.linalg.det(B)"
   ]
  },
  {
   "cell_type": "markdown",
   "id": "2dfbd48b-dfce-4fce-9b5e-d6d3390b1c07",
   "metadata": {},
   "source": [
    "## Probability and Information Theory"
   ]
  },
  {
   "cell_type": "code",
   "execution_count": null,
   "id": "3e9af7f3-9f07-43be-bcb4-14053705b545",
   "metadata": {},
   "outputs": [],
   "source": []
  },
  {
   "cell_type": "code",
   "execution_count": null,
   "id": "d5f1ed64-baf6-40c4-a260-e41377d6c1e8",
   "metadata": {},
   "outputs": [],
   "source": []
  },
  {
   "cell_type": "code",
   "execution_count": null,
   "id": "2455b83d-7e7b-465d-8bbd-763dc4fea747",
   "metadata": {},
   "outputs": [],
   "source": []
  },
  {
   "cell_type": "code",
   "execution_count": null,
   "id": "39fbf722-9b7f-46ef-a1db-5b0ce8bdffad",
   "metadata": {},
   "outputs": [],
   "source": []
  },
  {
   "cell_type": "code",
   "execution_count": null,
   "id": "2d9c0174-da0b-40ca-9697-7fdbde2510e9",
   "metadata": {},
   "outputs": [],
   "source": []
  },
  {
   "cell_type": "code",
   "execution_count": null,
   "id": "b4025dc2-6fb9-4202-bc2e-6d9d434ddf27",
   "metadata": {},
   "outputs": [],
   "source": []
  },
  {
   "cell_type": "code",
   "execution_count": null,
   "id": "52f59070-9782-4ec1-a803-0e699b3df94d",
   "metadata": {},
   "outputs": [],
   "source": []
  },
  {
   "cell_type": "code",
   "execution_count": null,
   "id": "66480565-612a-410c-86c5-fb00a6679e91",
   "metadata": {},
   "outputs": [],
   "source": []
  },
  {
   "cell_type": "code",
   "execution_count": null,
   "id": "23f718f7-f078-456f-ac44-790d3f3195fd",
   "metadata": {},
   "outputs": [],
   "source": []
  },
  {
   "cell_type": "code",
   "execution_count": null,
   "id": "50ead95d-7ebb-42f2-ae2e-8547e822ed56",
   "metadata": {},
   "outputs": [],
   "source": []
  },
  {
   "cell_type": "code",
   "execution_count": null,
   "id": "4a47eaba-e220-4e49-956e-d4cab2e708c5",
   "metadata": {},
   "outputs": [],
   "source": []
  },
  {
   "cell_type": "code",
   "execution_count": null,
   "id": "02d2a835-2ead-4c28-a817-6c411a2a9a9d",
   "metadata": {},
   "outputs": [],
   "source": []
  },
  {
   "cell_type": "code",
   "execution_count": null,
   "id": "f4c0ef1c-dac0-4a8c-be36-eae2000374a4",
   "metadata": {},
   "outputs": [],
   "source": []
  },
  {
   "cell_type": "code",
   "execution_count": null,
   "id": "db04dec4-68be-4bdb-be5c-2803c60cd9ea",
   "metadata": {},
   "outputs": [],
   "source": []
  },
  {
   "cell_type": "code",
   "execution_count": null,
   "id": "8ab4e85c-002b-4120-ac8f-5f34d31bb237",
   "metadata": {},
   "outputs": [],
   "source": []
  },
  {
   "cell_type": "code",
   "execution_count": null,
   "id": "d4fa11bf-4984-4156-89b2-49eb84ee06bd",
   "metadata": {},
   "outputs": [],
   "source": []
  }
 ],
 "metadata": {
  "kernelspec": {
   "display_name": "Python 3 (ipykernel)",
   "language": "python",
   "name": "python3"
  },
  "language_info": {
   "codemirror_mode": {
    "name": "ipython",
    "version": 3
   },
   "file_extension": ".py",
   "mimetype": "text/x-python",
   "name": "python",
   "nbconvert_exporter": "python",
   "pygments_lexer": "ipython3",
   "version": "3.11.6"
  }
 },
 "nbformat": 4,
 "nbformat_minor": 5
}
